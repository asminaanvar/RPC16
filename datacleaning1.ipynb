{
 "cells": [
  {
   "cell_type": "code",
   "execution_count": null,
   "id": "fcf96265",
   "metadata": {},
   "outputs": [
    {
     "ename": "",
     "evalue": "",
     "output_type": "error",
     "traceback": [
      "\u001b[1;31mUnable to start Kernel 'myenv (Python 3.12.10)' due to a timeout waiting for the ports to get used. \n",
      "\u001b[1;31mView Jupyter <a href='command:jupyter.viewOutput'>log</a> for further details."
     ]
    }
   ],
   "source": [
    "import pandas as pd\n",
    "import numpy as np\n"
   ]
  },
  {
   "cell_type": "code",
   "execution_count": null,
   "id": "2580d8a9",
   "metadata": {},
   "outputs": [
    {
     "data": {
      "text/html": [
       "<div>\n",
       "<style scoped>\n",
       "    .dataframe tbody tr th:only-of-type {\n",
       "        vertical-align: middle;\n",
       "    }\n",
       "\n",
       "    .dataframe tbody tr th {\n",
       "        vertical-align: top;\n",
       "    }\n",
       "\n",
       "    .dataframe thead th {\n",
       "        text-align: right;\n",
       "    }\n",
       "</style>\n",
       "<table border=\"1\" class=\"dataframe\">\n",
       "  <thead>\n",
       "    <tr style=\"text-align: right;\">\n",
       "      <th></th>\n",
       "      <th>date</th>\n",
       "      <th>state</th>\n",
       "      <th>area</th>\n",
       "      <th>number_of_monitoring_stations</th>\n",
       "      <th>prominent_pollutants</th>\n",
       "      <th>aqi_value</th>\n",
       "      <th>air_quality_status</th>\n",
       "      <th>unit</th>\n",
       "      <th>note</th>\n",
       "    </tr>\n",
       "  </thead>\n",
       "  <tbody>\n",
       "    <tr>\n",
       "      <th>0</th>\n",
       "      <td>30-04-2025</td>\n",
       "      <td>Maharashtra</td>\n",
       "      <td>Amravati</td>\n",
       "      <td>2</td>\n",
       "      <td>PM10</td>\n",
       "      <td>78</td>\n",
       "      <td>Satisfactory</td>\n",
       "      <td>number_of_monitoring_stations in Absolute Numb...</td>\n",
       "      <td>NaN</td>\n",
       "    </tr>\n",
       "    <tr>\n",
       "      <th>1</th>\n",
       "      <td>30-04-2025</td>\n",
       "      <td>Bihar</td>\n",
       "      <td>Purnia</td>\n",
       "      <td>1</td>\n",
       "      <td>CO</td>\n",
       "      <td>56</td>\n",
       "      <td>Satisfactory</td>\n",
       "      <td>number_of_monitoring_stations in Absolute Numb...</td>\n",
       "      <td>NaN</td>\n",
       "    </tr>\n",
       "    <tr>\n",
       "      <th>2</th>\n",
       "      <td>30-04-2025</td>\n",
       "      <td>Madhya Pradesh</td>\n",
       "      <td>Katni</td>\n",
       "      <td>1</td>\n",
       "      <td>O3</td>\n",
       "      <td>98</td>\n",
       "      <td>Satisfactory</td>\n",
       "      <td>number_of_monitoring_stations in Absolute Numb...</td>\n",
       "      <td>NaN</td>\n",
       "    </tr>\n",
       "    <tr>\n",
       "      <th>3</th>\n",
       "      <td>30-04-2025</td>\n",
       "      <td>Chhattisgarh</td>\n",
       "      <td>Tumidih</td>\n",
       "      <td>1</td>\n",
       "      <td>PM10</td>\n",
       "      <td>103</td>\n",
       "      <td>Moderate</td>\n",
       "      <td>number_of_monitoring_stations in Absolute Numb...</td>\n",
       "      <td>NaN</td>\n",
       "    </tr>\n",
       "    <tr>\n",
       "      <th>4</th>\n",
       "      <td>30-04-2025</td>\n",
       "      <td>Assam</td>\n",
       "      <td>Byrnihat</td>\n",
       "      <td>1</td>\n",
       "      <td>PM2.5</td>\n",
       "      <td>61</td>\n",
       "      <td>Satisfactory</td>\n",
       "      <td>number_of_monitoring_stations in Absolute Numb...</td>\n",
       "      <td>NaN</td>\n",
       "    </tr>\n",
       "    <tr>\n",
       "      <th>...</th>\n",
       "      <td>...</td>\n",
       "      <td>...</td>\n",
       "      <td>...</td>\n",
       "      <td>...</td>\n",
       "      <td>...</td>\n",
       "      <td>...</td>\n",
       "      <td>...</td>\n",
       "      <td>...</td>\n",
       "      <td>...</td>\n",
       "    </tr>\n",
       "    <tr>\n",
       "      <th>235780</th>\n",
       "      <td>01-04-2022</td>\n",
       "      <td>Bihar</td>\n",
       "      <td>Arrah</td>\n",
       "      <td>1</td>\n",
       "      <td>PM10</td>\n",
       "      <td>210</td>\n",
       "      <td>Poor</td>\n",
       "      <td>number_of_monitoring_stations in Absolute Numb...</td>\n",
       "      <td>NaN</td>\n",
       "    </tr>\n",
       "    <tr>\n",
       "      <th>235781</th>\n",
       "      <td>01-04-2022</td>\n",
       "      <td>Rajasthan</td>\n",
       "      <td>Jaipur</td>\n",
       "      <td>3</td>\n",
       "      <td>PM2.5,PM10</td>\n",
       "      <td>158</td>\n",
       "      <td>Moderate</td>\n",
       "      <td>number_of_monitoring_stations in Absolute Numb...</td>\n",
       "      <td>NaN</td>\n",
       "    </tr>\n",
       "    <tr>\n",
       "      <th>235782</th>\n",
       "      <td>01-04-2022</td>\n",
       "      <td>Maharashtra</td>\n",
       "      <td>Chandrapur</td>\n",
       "      <td>2</td>\n",
       "      <td>PM2.5</td>\n",
       "      <td>201</td>\n",
       "      <td>Poor</td>\n",
       "      <td>number_of_monitoring_stations in Absolute Numb...</td>\n",
       "      <td>NaN</td>\n",
       "    </tr>\n",
       "    <tr>\n",
       "      <th>235783</th>\n",
       "      <td>01-04-2022</td>\n",
       "      <td>Uttar Pradesh</td>\n",
       "      <td>Varanasi</td>\n",
       "      <td>4</td>\n",
       "      <td>PM10</td>\n",
       "      <td>128</td>\n",
       "      <td>Moderate</td>\n",
       "      <td>number_of_monitoring_stations in Absolute Numb...</td>\n",
       "      <td>NaN</td>\n",
       "    </tr>\n",
       "    <tr>\n",
       "      <th>235784</th>\n",
       "      <td>01-04-2022</td>\n",
       "      <td>Odisha</td>\n",
       "      <td>Brajrajnagar</td>\n",
       "      <td>1</td>\n",
       "      <td>O3</td>\n",
       "      <td>270</td>\n",
       "      <td>Poor</td>\n",
       "      <td>number_of_monitoring_stations in Absolute Numb...</td>\n",
       "      <td>NaN</td>\n",
       "    </tr>\n",
       "  </tbody>\n",
       "</table>\n",
       "<p>235785 rows × 9 columns</p>\n",
       "</div>"
      ],
      "text/plain": [
       "              date           state          area  \\\n",
       "0       30-04-2025     Maharashtra      Amravati   \n",
       "1       30-04-2025           Bihar        Purnia   \n",
       "2       30-04-2025  Madhya Pradesh         Katni   \n",
       "3       30-04-2025    Chhattisgarh       Tumidih   \n",
       "4       30-04-2025           Assam      Byrnihat   \n",
       "...            ...             ...           ...   \n",
       "235780  01-04-2022           Bihar         Arrah   \n",
       "235781  01-04-2022       Rajasthan        Jaipur   \n",
       "235782  01-04-2022     Maharashtra    Chandrapur   \n",
       "235783  01-04-2022   Uttar Pradesh      Varanasi   \n",
       "235784  01-04-2022          Odisha  Brajrajnagar   \n",
       "\n",
       "        number_of_monitoring_stations prominent_pollutants  aqi_value  \\\n",
       "0                                   2                 PM10         78   \n",
       "1                                   1                   CO         56   \n",
       "2                                   1                   O3         98   \n",
       "3                                   1                 PM10        103   \n",
       "4                                   1                PM2.5         61   \n",
       "...                               ...                  ...        ...   \n",
       "235780                              1                 PM10        210   \n",
       "235781                              3           PM2.5,PM10        158   \n",
       "235782                              2                PM2.5        201   \n",
       "235783                              4                 PM10        128   \n",
       "235784                              1                   O3        270   \n",
       "\n",
       "       air_quality_status                                               unit  \\\n",
       "0            Satisfactory  number_of_monitoring_stations in Absolute Numb...   \n",
       "1            Satisfactory  number_of_monitoring_stations in Absolute Numb...   \n",
       "2            Satisfactory  number_of_monitoring_stations in Absolute Numb...   \n",
       "3                Moderate  number_of_monitoring_stations in Absolute Numb...   \n",
       "4            Satisfactory  number_of_monitoring_stations in Absolute Numb...   \n",
       "...                   ...                                                ...   \n",
       "235780               Poor  number_of_monitoring_stations in Absolute Numb...   \n",
       "235781           Moderate  number_of_monitoring_stations in Absolute Numb...   \n",
       "235782               Poor  number_of_monitoring_stations in Absolute Numb...   \n",
       "235783           Moderate  number_of_monitoring_stations in Absolute Numb...   \n",
       "235784               Poor  number_of_monitoring_stations in Absolute Numb...   \n",
       "\n",
       "        note  \n",
       "0        NaN  \n",
       "1        NaN  \n",
       "2        NaN  \n",
       "3        NaN  \n",
       "4        NaN  \n",
       "...      ...  \n",
       "235780   NaN  \n",
       "235781   NaN  \n",
       "235782   NaN  \n",
       "235783   NaN  \n",
       "235784   NaN  \n",
       "\n",
       "[235785 rows x 9 columns]"
      ]
     },
     "execution_count": 5,
     "metadata": {},
     "output_type": "execute_result"
    },
    {
     "ename": "",
     "evalue": "",
     "output_type": "error",
     "traceback": [
      "\u001b[1;31mUnable to start Kernel 'myenv (Python 3.12.10)' due to a timeout waiting for the ports to get used. \n",
      "\u001b[1;31mView Jupyter <a href='command:jupyter.viewOutput'>log</a> for further details."
     ]
    }
   ],
   "source": [
    "df= pd.read_csv(\"aqi.csv\")\n",
    "df\n"
   ]
  },
  {
   "cell_type": "code",
   "execution_count": null,
   "id": "2d916a99",
   "metadata": {},
   "outputs": [
    {
     "data": {
      "text/html": [
       "<div>\n",
       "<style scoped>\n",
       "    .dataframe tbody tr th:only-of-type {\n",
       "        vertical-align: middle;\n",
       "    }\n",
       "\n",
       "    .dataframe tbody tr th {\n",
       "        vertical-align: top;\n",
       "    }\n",
       "\n",
       "    .dataframe thead th {\n",
       "        text-align: right;\n",
       "    }\n",
       "</style>\n",
       "<table border=\"1\" class=\"dataframe\">\n",
       "  <thead>\n",
       "    <tr style=\"text-align: right;\">\n",
       "      <th></th>\n",
       "      <th>date</th>\n",
       "      <th>state</th>\n",
       "      <th>area</th>\n",
       "      <th>number_of_monitoring_stations</th>\n",
       "      <th>prominent_pollutants</th>\n",
       "      <th>aqi_value</th>\n",
       "      <th>air_quality_status</th>\n",
       "      <th>unit</th>\n",
       "      <th>note</th>\n",
       "    </tr>\n",
       "  </thead>\n",
       "  <tbody>\n",
       "    <tr>\n",
       "      <th>0</th>\n",
       "      <td>30-04-2025</td>\n",
       "      <td>Maharashtra</td>\n",
       "      <td>Amravati</td>\n",
       "      <td>2</td>\n",
       "      <td>PM10</td>\n",
       "      <td>78</td>\n",
       "      <td>Satisfactory</td>\n",
       "      <td>number_of_monitoring_stations in Absolute Numb...</td>\n",
       "      <td>NaN</td>\n",
       "    </tr>\n",
       "    <tr>\n",
       "      <th>1</th>\n",
       "      <td>30-04-2025</td>\n",
       "      <td>Bihar</td>\n",
       "      <td>Purnia</td>\n",
       "      <td>1</td>\n",
       "      <td>CO</td>\n",
       "      <td>56</td>\n",
       "      <td>Satisfactory</td>\n",
       "      <td>number_of_monitoring_stations in Absolute Numb...</td>\n",
       "      <td>NaN</td>\n",
       "    </tr>\n",
       "    <tr>\n",
       "      <th>2</th>\n",
       "      <td>30-04-2025</td>\n",
       "      <td>Madhya Pradesh</td>\n",
       "      <td>Katni</td>\n",
       "      <td>1</td>\n",
       "      <td>O3</td>\n",
       "      <td>98</td>\n",
       "      <td>Satisfactory</td>\n",
       "      <td>number_of_monitoring_stations in Absolute Numb...</td>\n",
       "      <td>NaN</td>\n",
       "    </tr>\n",
       "    <tr>\n",
       "      <th>3</th>\n",
       "      <td>30-04-2025</td>\n",
       "      <td>Chhattisgarh</td>\n",
       "      <td>Tumidih</td>\n",
       "      <td>1</td>\n",
       "      <td>PM10</td>\n",
       "      <td>103</td>\n",
       "      <td>Moderate</td>\n",
       "      <td>number_of_monitoring_stations in Absolute Numb...</td>\n",
       "      <td>NaN</td>\n",
       "    </tr>\n",
       "    <tr>\n",
       "      <th>4</th>\n",
       "      <td>30-04-2025</td>\n",
       "      <td>Assam</td>\n",
       "      <td>Byrnihat</td>\n",
       "      <td>1</td>\n",
       "      <td>PM2.5</td>\n",
       "      <td>61</td>\n",
       "      <td>Satisfactory</td>\n",
       "      <td>number_of_monitoring_stations in Absolute Numb...</td>\n",
       "      <td>NaN</td>\n",
       "    </tr>\n",
       "  </tbody>\n",
       "</table>\n",
       "</div>"
      ],
      "text/plain": [
       "         date           state      area  number_of_monitoring_stations  \\\n",
       "0  30-04-2025     Maharashtra  Amravati                              2   \n",
       "1  30-04-2025           Bihar    Purnia                              1   \n",
       "2  30-04-2025  Madhya Pradesh     Katni                              1   \n",
       "3  30-04-2025    Chhattisgarh   Tumidih                              1   \n",
       "4  30-04-2025           Assam  Byrnihat                              1   \n",
       "\n",
       "  prominent_pollutants  aqi_value air_quality_status  \\\n",
       "0                 PM10         78       Satisfactory   \n",
       "1                   CO         56       Satisfactory   \n",
       "2                   O3         98       Satisfactory   \n",
       "3                 PM10        103           Moderate   \n",
       "4                PM2.5         61       Satisfactory   \n",
       "\n",
       "                                                unit  note  \n",
       "0  number_of_monitoring_stations in Absolute Numb...   NaN  \n",
       "1  number_of_monitoring_stations in Absolute Numb...   NaN  \n",
       "2  number_of_monitoring_stations in Absolute Numb...   NaN  \n",
       "3  number_of_monitoring_stations in Absolute Numb...   NaN  \n",
       "4  number_of_monitoring_stations in Absolute Numb...   NaN  "
      ]
     },
     "execution_count": 4,
     "metadata": {},
     "output_type": "execute_result"
    },
    {
     "ename": "",
     "evalue": "",
     "output_type": "error",
     "traceback": [
      "\u001b[1;31mUnable to start Kernel 'myenv (Python 3.12.10)' due to a timeout waiting for the ports to get used. \n",
      "\u001b[1;31mView Jupyter <a href='command:jupyter.viewOutput'>log</a> for further details."
     ]
    }
   ],
   "source": [
    "df.head()\n"
   ]
  },
  {
   "cell_type": "code",
   "execution_count": null,
   "id": "54ad4e40",
   "metadata": {},
   "outputs": [
    {
     "name": "stdout",
     "output_type": "stream",
     "text": [
      "<class 'pandas.core.frame.DataFrame'>\n",
      "RangeIndex: 235785 entries, 0 to 235784\n",
      "Data columns (total 9 columns):\n",
      " #   Column                         Non-Null Count   Dtype  \n",
      "---  ------                         --------------   -----  \n",
      " 0   date                           235785 non-null  object \n",
      " 1   state                          235785 non-null  object \n",
      " 2   area                           235785 non-null  object \n",
      " 3   number_of_monitoring_stations  235785 non-null  int64  \n",
      " 4   prominent_pollutants           235785 non-null  object \n",
      " 5   aqi_value                      235785 non-null  int64  \n",
      " 6   air_quality_status             235785 non-null  object \n",
      " 7   unit                           235785 non-null  object \n",
      " 8   note                           0 non-null       float64\n",
      "dtypes: float64(1), int64(2), object(6)\n",
      "memory usage: 16.2+ MB\n"
     ]
    },
    {
     "ename": "",
     "evalue": "",
     "output_type": "error",
     "traceback": [
      "\u001b[1;31mUnable to start Kernel 'myenv (Python 3.12.10)' due to a timeout waiting for the ports to get used. \n",
      "\u001b[1;31mView Jupyter <a href='command:jupyter.viewOutput'>log</a> for further details."
     ]
    }
   ],
   "source": [
    "df.info()\n"
   ]
  },
  {
   "cell_type": "code",
   "execution_count": null,
   "id": "03fe68fe",
   "metadata": {},
   "outputs": [
    {
     "data": {
      "text/plain": [
       "date                                  0\n",
       "state                                 0\n",
       "area                                  0\n",
       "number_of_monitoring_stations         0\n",
       "prominent_pollutants                  0\n",
       "aqi_value                             0\n",
       "air_quality_status                    0\n",
       "unit                                  0\n",
       "note                             235785\n",
       "dtype: int64"
      ]
     },
     "execution_count": 6,
     "metadata": {},
     "output_type": "execute_result"
    },
    {
     "ename": "",
     "evalue": "",
     "output_type": "error",
     "traceback": [
      "\u001b[1;31mUnable to start Kernel 'myenv (Python 3.12.10)' due to a timeout waiting for the ports to get used. \n",
      "\u001b[1;31mView Jupyter <a href='command:jupyter.viewOutput'>log</a> for further details."
     ]
    }
   ],
   "source": [
    "df.isnull().sum()\n"
   ]
  },
  {
   "cell_type": "code",
   "execution_count": null,
   "id": "3ba6ee2d",
   "metadata": {},
   "outputs": [
    {
     "data": {
      "text/plain": [
       "np.int64(0)"
      ]
     },
     "execution_count": 6,
     "metadata": {},
     "output_type": "execute_result"
    },
    {
     "ename": "",
     "evalue": "",
     "output_type": "error",
     "traceback": [
      "\u001b[1;31mUnable to start Kernel 'myenv (Python 3.12.10)' due to a timeout waiting for the ports to get used. \n",
      "\u001b[1;31mView Jupyter <a href='command:jupyter.viewOutput'>log</a> for further details."
     ]
    }
   ],
   "source": [
    "df.duplicated().sum() \n"
   ]
  },
  {
   "cell_type": "code",
   "execution_count": null,
   "id": "ddfaeadc",
   "metadata": {},
   "outputs": [
    {
     "data": {
      "text/html": [
       "<div>\n",
       "<style scoped>\n",
       "    .dataframe tbody tr th:only-of-type {\n",
       "        vertical-align: middle;\n",
       "    }\n",
       "\n",
       "    .dataframe tbody tr th {\n",
       "        vertical-align: top;\n",
       "    }\n",
       "\n",
       "    .dataframe thead th {\n",
       "        text-align: right;\n",
       "    }\n",
       "</style>\n",
       "<table border=\"1\" class=\"dataframe\">\n",
       "  <thead>\n",
       "    <tr style=\"text-align: right;\">\n",
       "      <th></th>\n",
       "      <th>number_of_monitoring_stations</th>\n",
       "      <th>aqi_value</th>\n",
       "      <th>note</th>\n",
       "    </tr>\n",
       "  </thead>\n",
       "  <tbody>\n",
       "    <tr>\n",
       "      <th>count</th>\n",
       "      <td>235785.000000</td>\n",
       "      <td>235785.000000</td>\n",
       "      <td>0.0</td>\n",
       "    </tr>\n",
       "    <tr>\n",
       "      <th>mean</th>\n",
       "      <td>1.870653</td>\n",
       "      <td>111.127294</td>\n",
       "      <td>NaN</td>\n",
       "    </tr>\n",
       "    <tr>\n",
       "      <th>std</th>\n",
       "      <td>3.071575</td>\n",
       "      <td>71.447353</td>\n",
       "      <td>NaN</td>\n",
       "    </tr>\n",
       "    <tr>\n",
       "      <th>min</th>\n",
       "      <td>1.000000</td>\n",
       "      <td>3.000000</td>\n",
       "      <td>NaN</td>\n",
       "    </tr>\n",
       "    <tr>\n",
       "      <th>25%</th>\n",
       "      <td>1.000000</td>\n",
       "      <td>59.000000</td>\n",
       "      <td>NaN</td>\n",
       "    </tr>\n",
       "    <tr>\n",
       "      <th>50%</th>\n",
       "      <td>1.000000</td>\n",
       "      <td>92.000000</td>\n",
       "      <td>NaN</td>\n",
       "    </tr>\n",
       "    <tr>\n",
       "      <th>75%</th>\n",
       "      <td>1.000000</td>\n",
       "      <td>142.000000</td>\n",
       "      <td>NaN</td>\n",
       "    </tr>\n",
       "    <tr>\n",
       "      <th>max</th>\n",
       "      <td>40.000000</td>\n",
       "      <td>500.000000</td>\n",
       "      <td>NaN</td>\n",
       "    </tr>\n",
       "  </tbody>\n",
       "</table>\n",
       "</div>"
      ],
      "text/plain": [
       "       number_of_monitoring_stations      aqi_value  note\n",
       "count                  235785.000000  235785.000000   0.0\n",
       "mean                        1.870653     111.127294   NaN\n",
       "std                         3.071575      71.447353   NaN\n",
       "min                         1.000000       3.000000   NaN\n",
       "25%                         1.000000      59.000000   NaN\n",
       "50%                         1.000000      92.000000   NaN\n",
       "75%                         1.000000     142.000000   NaN\n",
       "max                        40.000000     500.000000   NaN"
      ]
     },
     "execution_count": 7,
     "metadata": {},
     "output_type": "execute_result"
    },
    {
     "ename": "",
     "evalue": "",
     "output_type": "error",
     "traceback": [
      "\u001b[1;31mUnable to start Kernel 'myenv (Python 3.12.10)' due to a timeout waiting for the ports to get used. \n",
      "\u001b[1;31mView Jupyter <a href='command:jupyter.viewOutput'>log</a> for further details."
     ]
    }
   ],
   "source": [
    "df.describe()"
   ]
  },
  {
   "cell_type": "code",
   "execution_count": null,
   "id": "d838ff16",
   "metadata": {},
   "outputs": [
    {
     "name": "stderr",
     "output_type": "stream",
     "text": [
      "C:\\Users\\anwer\\AppData\\Local\\Temp\\ipykernel_3312\\3532345252.py:1: UserWarning: Parsing dates in %d-%m-%Y format when dayfirst=False (the default) was specified. Pass `dayfirst=True` or specify a format to silence this warning.\n",
      "  df['date'] = pd.to_datetime(df['date'])\n"
     ]
    },
    {
     "ename": "",
     "evalue": "",
     "output_type": "error",
     "traceback": [
      "\u001b[1;31mUnable to start Kernel 'myenv (Python 3.12.10)' due to a timeout waiting for the ports to get used. \n",
      "\u001b[1;31mView Jupyter <a href='command:jupyter.viewOutput'>log</a> for further details."
     ]
    }
   ],
   "source": [
    "df['date'] = pd.to_datetime(df['date'])"
   ]
  },
  {
   "cell_type": "code",
   "execution_count": null,
   "id": "f034065d",
   "metadata": {},
   "outputs": [
    {
     "name": "stdout",
     "output_type": "stream",
     "text": [
      "The 'date' column has been successfully converted to datetime objects.\n"
     ]
    },
    {
     "ename": "",
     "evalue": "",
     "output_type": "error",
     "traceback": [
      "\u001b[1;31mUnable to start Kernel 'myenv (Python 3.12.10)' due to a timeout waiting for the ports to get used. \n",
      "\u001b[1;31mView Jupyter <a href='command:jupyter.viewOutput'>log</a> for further details."
     ]
    }
   ],
   "source": [
    "try:\n",
    "    df['date'] = pd.to_datetime(df['date'], format='%d-%m-%Y')\n",
    "    print(\"The 'date' column has been successfully converted to datetime objects.\")\n",
    "except Exception as e:\n",
    "    print(f\"Error converting 'date' column: {e}\")"
   ]
  },
  {
   "cell_type": "code",
   "execution_count": null,
   "id": "e70c93e0",
   "metadata": {},
   "outputs": [
    {
     "name": "stdout",
     "output_type": "stream",
     "text": [
      "\n",
      "--- Value Counts for Categorical Columns ---\n",
      "Unique States: 32\n"
     ]
    },
    {
     "ename": "",
     "evalue": "",
     "output_type": "error",
     "traceback": [
      "\u001b[1;31mUnable to start Kernel 'myenv (Python 3.12.10)' due to a timeout waiting for the ports to get used. \n",
      "\u001b[1;31mView Jupyter <a href='command:jupyter.viewOutput'>log</a> for further details."
     ]
    }
   ],
   "source": [
    "print(\"\\n--- Value Counts for Categorical Columns ---\")\n",
    "print(\"Unique States:\", df['state'].nunique())"
   ]
  },
  {
   "cell_type": "code",
   "execution_count": null,
   "id": "bab66395",
   "metadata": {},
   "outputs": [
    {
     "name": "stdout",
     "output_type": "stream",
     "text": [
      "\n",
      "--- Value Counts for Categorical Columns ---\n",
      "Unique States: 291\n"
     ]
    },
    {
     "ename": "",
     "evalue": "",
     "output_type": "error",
     "traceback": [
      "\u001b[1;31mUnable to start Kernel 'myenv (Python 3.12.10)' due to a timeout waiting for the ports to get used. \n",
      "\u001b[1;31mView Jupyter <a href='command:jupyter.viewOutput'>log</a> for further details."
     ]
    }
   ],
   "source": [
    "print(\"\\n--- Value Counts for Categorical Columns ---\")\n",
    "print(\"Unique States:\", df['area'].nunique())"
   ]
  },
  {
   "cell_type": "code",
   "execution_count": null,
   "id": "5151d59a",
   "metadata": {},
   "outputs": [
    {
     "name": "stdout",
     "output_type": "stream",
     "text": [
      "\n",
      "Unique Areas: 291\n",
      "area\n",
      "Aurangabad    1897\n",
      "Patna         1125\n",
      "Bengaluru     1125\n",
      "Delhi         1125\n",
      "Kanpur        1125\n",
      "Chandigarh    1125\n",
      "Jaipur        1125\n",
      "Agra          1125\n",
      "Lucknow       1125\n",
      "Moradabad     1125\n",
      "Name: count, dtype: int64\n",
      "\n",
      "Unique Prominent Pollutants (prominent_pollutants):\n",
      "prominent_pollutants\n",
      "PM10                 111053\n",
      "PM2.5                 59670\n",
      "O3                    16202\n",
      "PM2.5,PM10            13199\n",
      "CO                    12867\n",
      "PM10,O3                3914\n",
      "SO2                    3815\n",
      "NO2                    3012\n",
      "PM10,CO                2658\n",
      "PM2.5,O3               2088\n",
      "PM10,NO2               1278\n",
      "O3,PM2.5,PM10          1019\n",
      "PM2.5,PM10,CO           710\n",
      "PM10,SO2                551\n",
      "CO,O3                   543\n",
      "PM10,O3,CO              418\n",
      "PM2.5,NO2               415\n",
      "PM10,PM2.5,NO2          281\n",
      "PM2.5,SO2               278\n",
      "CO,NO2                  274\n",
      "PM10,NO2,O3             216\n",
      "NO2,PM10,CO             191\n",
      "CO,SO2                  167\n",
      "NO2,O3                  139\n",
      "PM10,PM2.5,SO2          111\n",
      "SO2,O3                  109\n",
      "PM2.5,CO,O3              99\n",
      "PM10,CO,SO2              69\n",
      "NH3                      69\n",
      "PM10,SO2,O3              65\n",
      "NO2,CO,O3                49\n",
      "PM10,NO2,PM2.5,O3        43\n",
      "PM2.5,CO,NO2             40\n",
      "PM2.5,CO,SO2             36\n",
      "NO2,SO2                  34\n",
      "PM10,NO2,SO3             25\n",
      "PM2.5,SO2,O3             21\n",
      "SO3,CO,O3                15\n",
      "PM2.5,NO2,SO2            13\n",
      "NO2,SO2,CO                9\n",
      "NO2,O3,SO2                6\n",
      "PM2.5,NH3                 5\n",
      "PM10,NH3                  2\n",
      "PM10,NH3,O3               2\n",
      "PM10,NH3,CO               1\n",
      "PM2.5,NH3,O3              1\n",
      "NH3,CO,O3                 1\n",
      "O3,NH3                    1\n",
      "PM2.5,NH3,CO              1\n",
      "Name: count, dtype: int64\n",
      "\n",
      "Unique Air Quality Categories (air_quality_status):\n",
      "air_quality_status\n",
      "Satisfactory    88897\n",
      "Moderate        77537\n",
      "Good            41971\n",
      "Poor            21154\n",
      "Very Poor        5671\n",
      "Severe            555\n",
      "Name: count, dtype: int64\n"
     ]
    },
    {
     "ename": "",
     "evalue": "",
     "output_type": "error",
     "traceback": [
      "\u001b[1;31mUnable to start Kernel 'myenv (Python 3.12.10)' due to a timeout waiting for the ports to get used. \n",
      "\u001b[1;31mView Jupyter <a href='command:jupyter.viewOutput'>log</a> for further details."
     ]
    }
   ],
   "source": [
    "print(\"\\nUnique Areas:\", df['area'].nunique())\n",
    "print(df['area'].value_counts().head(10)) # Show top 10 areas, as there might be many\n",
    "print(\"\\nUnique Prominent Pollutants (prominent_pollutants):\")\n",
    "print(df['prominent_pollutants'].value_counts())\n",
    "print(\"\\nUnique Air Quality Categories (air_quality_status):\")\n",
    "print(df['air_quality_status'].value_counts())\n"
   ]
  },
  {
   "cell_type": "code",
   "execution_count": null,
   "id": "fd36f8e9",
   "metadata": {},
   "outputs": [
    {
     "data": {
      "text/plain": [
       "dtype('O')"
      ]
     },
     "execution_count": 18,
     "metadata": {},
     "output_type": "execute_result"
    },
    {
     "ename": "",
     "evalue": "",
     "output_type": "error",
     "traceback": [
      "\u001b[1;31mUnable to start Kernel 'myenv (Python 3.12.10)' due to a timeout waiting for the ports to get used. \n",
      "\u001b[1;31mView Jupyter <a href='command:jupyter.viewOutput'>log</a> for further details."
     ]
    }
   ],
   "source": [
    "df['date'].dtype\n",
    "df['state'].dtype\n",
    "df['area'].dtype\n"
   ]
  },
  {
   "cell_type": "code",
   "execution_count": null,
   "id": "992eff9f",
   "metadata": {},
   "outputs": [
    {
     "name": "stdout",
     "output_type": "stream",
     "text": [
      "\n",
      "--- Descriptive Statistics for AQI Value ---\n",
      "count    235785.000000\n",
      "mean        111.127294\n",
      "std          71.447353\n",
      "min           3.000000\n",
      "25%          59.000000\n",
      "50%          92.000000\n",
      "75%         142.000000\n",
      "max         500.000000\n",
      "Name: aqi_value, dtype: float64\n"
     ]
    },
    {
     "ename": "",
     "evalue": "",
     "output_type": "error",
     "traceback": [
      "\u001b[1;31mUnable to start Kernel 'myenv (Python 3.12.10)' due to a timeout waiting for the ports to get used. \n",
      "\u001b[1;31mView Jupyter <a href='command:jupyter.viewOutput'>log</a> for further details."
     ]
    }
   ],
   "source": [
    "# --- 1. Basic Statistics of AQI Value ---\n",
    "print(\"\\n--- Descriptive Statistics for AQI Value ---\")\n",
    "print(df['aqi_value'].describe())"
   ]
  },
  {
   "cell_type": "code",
   "execution_count": null,
   "id": "7e83bfad",
   "metadata": {},
   "outputs": [
    {
     "name": "stdout",
     "output_type": "stream",
     "text": [
      "\n",
      "--- Average AQI by State ---\n",
      "                          state   aqi_value\n",
      "0                         Delhi  206.416889\n",
      "1                     Jharkhand  164.940361\n",
      "2              Himachal Pradesh  160.257036\n",
      "3                         Bihar  157.158122\n",
      "4                    Chandigarh  141.561778\n",
      "5                       Haryana  140.852806\n",
      "6                     Rajasthan  127.987248\n",
      "7                       Tripura  126.697585\n",
      "8                 Uttar Pradesh  126.424036\n",
      "9                        Odisha  124.879719\n",
      "10                       Punjab  117.854265\n",
      "11                  West Bengal  114.192891\n",
      "12                        Assam  114.117456\n",
      "13                      Gujarat  110.634272\n",
      "14               Madhya Pradesh  108.716483\n",
      "15                  Maharashtra  103.639833\n",
      "16                      Manipur  100.927361\n",
      "17                  Uttarakhand   87.898799\n",
      "18                    Telangana   81.012444\n",
      "19                     Nagaland   80.458725\n",
      "20                 Chhattisgarh   78.986321\n",
      "21               Andhra Pradesh   77.507701\n",
      "22            Jammu and Kashmir   69.495434\n",
      "23                       Kerala   68.070147\n",
      "24                   Tamil Nadu   67.757654\n",
      "25                    Meghalaya   62.731121\n",
      "26                    Karnataka   62.672853\n",
      "27  Andaman and Nicobar Islands   57.706897\n",
      "28                   Puducherry   56.514019\n",
      "29            Arunachal Pradesh   54.485265\n",
      "30                       Sikkim   53.688995\n",
      "31                      Mizoram   47.247000\n"
     ]
    },
    {
     "ename": "",
     "evalue": "",
     "output_type": "error",
     "traceback": [
      "\u001b[1;31mUnable to start Kernel 'myenv (Python 3.12.10)' due to a timeout waiting for the ports to get used. \n",
      "\u001b[1;31mView Jupyter <a href='command:jupyter.viewOutput'>log</a> for further details."
     ]
    }
   ],
   "source": [
    "\n",
    "# Average AQI by State\n",
    "print(\"\\n--- Average AQI by State ---\")\n",
    "avg_aqi_state = df.groupby('state')['aqi_value'].mean().sort_values(ascending=False).reset_index()\n",
    "print(avg_aqi_state)"
   ]
  },
  {
   "cell_type": "code",
   "execution_count": null,
   "id": "2407f97f",
   "metadata": {},
   "outputs": [
    {
     "name": "stdout",
     "output_type": "stream",
     "text": [
      "\n",
      "--- Most Frequent Air Quality Category by State ---\n",
      "                          state air_quality_status\n",
      "0   Andaman and Nicobar Islands       Satisfactory\n",
      "1                Andhra Pradesh       Satisfactory\n",
      "2             Arunachal Pradesh               Good\n",
      "3                         Assam       Satisfactory\n",
      "4                         Bihar           Moderate\n",
      "5                    Chandigarh           Moderate\n",
      "6                  Chhattisgarh       Satisfactory\n",
      "7                         Delhi           Moderate\n",
      "8                       Gujarat       Satisfactory\n",
      "9                       Haryana           Moderate\n",
      "10             Himachal Pradesh           Moderate\n",
      "11            Jammu and Kashmir       Satisfactory\n",
      "12                    Jharkhand           Moderate\n",
      "13                    Karnataka       Satisfactory\n",
      "14                       Kerala       Satisfactory\n",
      "15               Madhya Pradesh           Moderate\n",
      "16                  Maharashtra           Moderate\n",
      "17                      Manipur       Satisfactory\n",
      "18                    Meghalaya               Good\n",
      "19                      Mizoram               Good\n",
      "20                     Nagaland       Satisfactory\n",
      "21                       Odisha           Moderate\n",
      "22                   Puducherry               Good\n",
      "23                       Punjab           Moderate\n",
      "24                    Rajasthan           Moderate\n",
      "25                       Sikkim       Satisfactory\n",
      "26                   Tamil Nadu       Satisfactory\n",
      "27                    Telangana       Satisfactory\n",
      "28                      Tripura       Satisfactory\n",
      "29                Uttar Pradesh           Moderate\n",
      "30                  Uttarakhand       Satisfactory\n",
      "31                  West Bengal       Satisfactory\n"
     ]
    },
    {
     "ename": "",
     "evalue": "",
     "output_type": "error",
     "traceback": [
      "\u001b[1;31mUnable to start Kernel 'myenv (Python 3.12.10)' due to a timeout waiting for the ports to get used. \n",
      "\u001b[1;31mView Jupyter <a href='command:jupyter.viewOutput'>log</a> for further details."
     ]
    }
   ],
   "source": [
    "# Most Common Air Quality Category by State\n",
    "print(\"\\n--- Most Frequent Air Quality Category by State ---\")\n",
    "# Get the mode (most frequent) category for each state\n",
    "most_common_aqi_cat_state = df.groupby('state')['air_quality_status'].agg(lambda x: x.mode()[0] if not x.mode().empty else 'No Data').reset_index()\n",
    "print(most_common_aqi_cat_state)"
   ]
  },
  {
   "cell_type": "code",
   "execution_count": null,
   "id": "ad123935",
   "metadata": {},
   "outputs": [
    {
     "ename": "",
     "evalue": "",
     "output_type": "error",
     "traceback": [
      "\u001b[1;31mUnable to start Kernel 'myenv (Python 3.12.10)' due to a timeout waiting for the ports to get used. \n",
      "\u001b[1;31mView Jupyter <a href='command:jupyter.viewOutput'>log</a> for further details."
     ]
    }
   ],
   "source": [
    "df['year'] = df['date'].dt.year\n",
    "df['month'] = df['date'].dt.month\n",
    "df['month_name'] = df['date'].dt.month_name()"
   ]
  },
  {
   "cell_type": "code",
   "execution_count": null,
   "id": "73faf92c",
   "metadata": {},
   "outputs": [
    {
     "ename": "",
     "evalue": "",
     "output_type": "error",
     "traceback": [
      "\u001b[1;31mUnable to start Kernel 'myenv (Python 3.12.10)' due to a timeout waiting for the ports to get used. \n",
      "\u001b[1;31mView Jupyter <a href='command:jupyter.viewOutput'>log</a> for further details."
     ]
    }
   ],
   "source": [
    "df['year'] = df['date'].dt.year"
   ]
  },
  {
   "cell_type": "code",
   "execution_count": null,
   "id": "6d361503",
   "metadata": {},
   "outputs": [
    {
     "name": "stdout",
     "output_type": "stream",
     "text": [
      "\n",
      "--- Monthly Average AQI Trend (Overall) ---\n",
      "    year  month   aqi_value\n",
      "0   2022      4  140.681279\n",
      "1   2022      5  122.354040\n",
      "2   2022      6  106.250000\n",
      "3   2022      7   61.290134\n",
      "4   2022      8   64.694450\n",
      "5   2022      9   70.024571\n",
      "6   2022     10  111.067442\n",
      "7   2022     11  164.375313\n",
      "8   2022     12  173.903564\n",
      "9   2023      1  171.742263\n",
      "10  2023      2  144.538650\n",
      "11  2023      3  114.564054\n",
      "12  2023      4  114.111402\n",
      "13  2023      5  102.753174\n",
      "14  2023      6   88.414430\n",
      "15  2023      7   64.684243\n",
      "16  2023      8   77.016944\n",
      "17  2023      9   70.832977\n",
      "18  2023     10  114.161864\n",
      "19  2023     11  167.330000\n",
      "20  2023     12  152.813662\n",
      "21  2024      1  157.626969\n",
      "22  2024      2  120.884188\n",
      "23  2024      3  108.912688\n",
      "24  2024      4  111.173055\n",
      "25  2024      5  108.415647\n",
      "26  2024      6   89.758008\n",
      "27  2024      7   62.150704\n",
      "28  2024      8   55.236735\n",
      "29  2024      9   63.148712\n",
      "30  2024     10   98.658854\n",
      "31  2024     11  153.137064\n",
      "32  2024     12  131.505895\n",
      "33  2025      1  131.369655\n",
      "34  2025      2  112.870330\n",
      "35  2025      3  105.540028\n",
      "36  2025      4   99.392974\n"
     ]
    },
    {
     "ename": "",
     "evalue": "",
     "output_type": "error",
     "traceback": [
      "\u001b[1;31mUnable to start Kernel 'myenv (Python 3.12.10)' due to a timeout waiting for the ports to get used. \n",
      "\u001b[1;31mView Jupyter <a href='command:jupyter.viewOutput'>log</a> for further details."
     ]
    }
   ],
   "source": [
    "# Monthly Average AQI over time\n",
    "print(\"\\n--- Monthly Average AQI Trend (Overall) ---\")\n",
    "monthly_avg_aqi=df.groupby(['year','month'])['aqi_value'].mean().reset_index().sort_values(by=['year','month'])\n",
    "print(monthly_avg_aqi)"
   ]
  },
  {
   "cell_type": "code",
   "execution_count": null,
   "id": "c6a43547",
   "metadata": {},
   "outputs": [
    {
     "name": "stdout",
     "output_type": "stream",
     "text": [
      "\n",
      "--- Count of Each Air Quality Category by State ---\n",
      "air_quality_status            Good  Moderate  Poor  Satisfactory  Severe  \\\n",
      "state                                                                      \n",
      "Andaman and Nicobar Islands     26         4     0            28       0   \n",
      "Andhra Pradesh                2072      1268   188          3535       2   \n",
      "Arunachal Pradesh              273        45     0           191       0   \n",
      "Assam                         1319       911   686          1733      17   \n",
      "Bihar                         1504      8146  3747          5928     297   \n",
      "Chandigarh                      63       518   177           320       1   \n",
      "Chhattisgarh                  1291      1178    91          2993       0   \n",
      "Delhi                            4       403   288           190      38   \n",
      "Gujarat                        629      2411   482          2632       0   \n",
      "Haryana                       1803      8424  3692          6698      89   \n",
      "Himachal Pradesh                11       575   197           229       4   \n",
      "Jammu and Kashmir              173        58     8           199       0   \n",
      "Jharkhand                        7       505   131            55       1   \n",
      "Karnataka                    10335      2454    78         10620       3   \n",
      "Kerala                        1258       436    45          3835       0   \n",
      "Madhya Pradesh                2268      5957  1151          5930       4   \n",
      "Maharashtra                   3577      9579  1098          8137       1   \n",
      "Manipur                         15       368    15           423       2   \n",
      "Meghalaya                      469       144    10           250       1   \n",
      "Mizoram                        630        70     0           300       0   \n",
      "Nagaland                       193       234     5           525       0   \n",
      "Odisha                        1298      4447  1470          3684       1   \n",
      "Puducherry                     533        48     8           481       0   \n",
      "Punjab                         583      3649   777          3384       2   \n",
      "Rajasthan                     1490     12549  2720          9159      46   \n",
      "Sikkim                         389        49     5           393       0   \n",
      "Tamil Nadu                    4718      1541   176          5494       0   \n",
      "Telangana                       82       222     0           821       0   \n",
      "Tripura                        220       249   215           318       0   \n",
      "Uttar Pradesh                 2791      8257  2718          7048      46   \n",
      "Uttarakhand                    524       641    75          1089       0   \n",
      "West Bengal                   1423      2197   901          2275       0   \n",
      "\n",
      "air_quality_status           Very Poor  \n",
      "state                                   \n",
      "Andaman and Nicobar Islands          0  \n",
      "Andhra Pradesh                      12  \n",
      "Arunachal Pradesh                    0  \n",
      "Assam                              255  \n",
      "Bihar                             1931  \n",
      "Chandigarh                          46  \n",
      "Chhattisgarh                         3  \n",
      "Delhi                              202  \n",
      "Gujarat                             61  \n",
      "Haryana                           1000  \n",
      "Himachal Pradesh                    50  \n",
      "Jammu and Kashmir                    0  \n",
      "Jharkhand                           22  \n",
      "Karnataka                            4  \n",
      "Kerala                               0  \n",
      "Madhya Pradesh                     167  \n",
      "Maharashtra                         67  \n",
      "Manipur                              3  \n",
      "Meghalaya                            0  \n",
      "Mizoram                              0  \n",
      "Nagaland                             0  \n",
      "Odisha                             199  \n",
      "Puducherry                           0  \n",
      "Punjab                              93  \n",
      "Rajasthan                          621  \n",
      "Sikkim                               0  \n",
      "Tamil Nadu                          25  \n",
      "Telangana                            0  \n",
      "Tripura                             33  \n",
      "Uttar Pradesh                      749  \n",
      "Uttarakhand                          3  \n",
      "West Bengal                        125  \n"
     ]
    },
    {
     "ename": "",
     "evalue": "",
     "output_type": "error",
     "traceback": [
      "\u001b[1;31mUnable to start Kernel 'myenv (Python 3.12.10)' due to a timeout waiting for the ports to get used. \n",
      "\u001b[1;31mView Jupyter <a href='command:jupyter.viewOutput'>log</a> for further details."
     ]
    }
   ],
   "source": [
    "print(\"\\n--- Count of Each Air Quality Category by State ---\")\n",
    "AQI_count_state=df.groupby('state')['air_quality_status'].value_counts().sort_values(ascending=False).unstack(fill_value=0)\n",
    "print(AQI_count_state)"
   ]
  },
  {
   "cell_type": "code",
   "execution_count": null,
   "id": "ebbea6ec",
   "metadata": {},
   "outputs": [
    {
     "name": "stdout",
     "output_type": "stream",
     "text": [
      "\n",
      "--- Average AQI by State and Area (Top 20 overall) ---\n",
      "            state            area   aqi_value\n",
      "0           Assam        Byrnihat  239.995427\n",
      "1           Bihar       Begusarai  206.680412\n",
      "2           Delhi           Delhi  206.416889\n",
      "3   Uttar Pradesh   Greater Noida  201.601959\n",
      "4       Rajasthan  Sri Ganganagar  197.939351\n",
      "5         Haryana        Gurugram  190.848214\n",
      "6           Bihar       Darbhanga  190.089844\n",
      "7         Haryana       Dharuhera  185.722513\n",
      "8   Uttar Pradesh           NOIDA  183.989324\n",
      "9   Uttar Pradesh       Ghaziabad  183.010676\n",
      "10        Haryana       Faridabad  181.926874\n",
      "11      Rajasthan         Bhiwadi  181.607502\n",
      "12          Bihar           Siwan  181.229855\n",
      "13          Bihar           Patna  179.927111\n",
      "14      Rajasthan     Hanumangarh  177.823197\n",
      "15          Bihar         Chhapra  176.245690\n",
      "16  Uttar Pradesh   Muzaffarnagar  175.574219\n",
      "17      Jharkhand         Dhanbad  173.415751\n",
      "18          Bihar      Samastipur  170.894318\n",
      "19          Bihar         Saharsa  169.871539\n"
     ]
    },
    {
     "ename": "",
     "evalue": "",
     "output_type": "error",
     "traceback": [
      "\u001b[1;31mUnable to start Kernel 'myenv (Python 3.12.10)' due to a timeout waiting for the ports to get used. \n",
      "\u001b[1;31mView Jupyter <a href='command:jupyter.viewOutput'>log</a> for further details."
     ]
    }
   ],
   "source": [
    "# --- 3. Area-wise Analysis (within states) ---\n",
    "\n",
    "# Average AQI by State and Area\n",
    "print(\"\\n--- Average AQI by State and Area (Top 20 overall) ---\")\n",
    "\n",
    "Avg_aqistate_area=df.groupby(['state','area'])['aqi_value'].mean().sort_values(ascending=False).reset_index()\n",
    "print(Avg_aqistate_area.head(20))"
   ]
  },
  {
   "cell_type": "code",
   "execution_count": null,
   "id": "aa269713",
   "metadata": {},
   "outputs": [
    {
     "name": "stdout",
     "output_type": "stream",
     "text": [
      "Most Frequent Prominent Pollutant by State and Area (Top 20 overall)\n",
      "                           state              area most_common_pollutant\n",
      "0    Andaman and Nicobar Islands  Sri Vijaya Puram                  PM10\n",
      "1                 Andhra Pradesh         Amaravati                  PM10\n",
      "2                 Andhra Pradesh         Anantapur                  PM10\n",
      "3                 Andhra Pradesh          Chittoor                 PM2.5\n",
      "4                 Andhra Pradesh            Kadapa                 PM2.5\n",
      "..                           ...               ...                   ...\n",
      "287                  West Bengal          Durgapur                  PM10\n",
      "288                  West Bengal            Haldia                  PM10\n",
      "289                  West Bengal            Howrah                  PM10\n",
      "290                  West Bengal           Kolkata                 PM2.5\n",
      "291                  West Bengal          Siliguri                  PM10\n",
      "\n",
      "[292 rows x 3 columns]\n"
     ]
    },
    {
     "ename": "",
     "evalue": "",
     "output_type": "error",
     "traceback": [
      "\u001b[1;31mUnable to start Kernel 'myenv (Python 3.12.10)' due to a timeout waiting for the ports to get used. \n",
      "\u001b[1;31mView Jupyter <a href='command:jupyter.viewOutput'>log</a> for further details."
     ]
    }
   ],
   "source": [
    "# Most Common Prominent Pollutant by State and Area\n",
    "print(\"Most Frequent Prominent Pollutant by State and Area (Top 20 overall)\")\n",
    "prominent_pollutants_area = df.groupby(['state', 'area'])['prominent_pollutants'] \\\n",
    "                               .apply(lambda x: x.mode().iloc[0]) \\\n",
    "                               .reset_index(name='most_common_pollutant')\n",
    "\n",
    "print(prominent_pollutants_area)"
   ]
  },
  {
   "cell_type": "code",
   "execution_count": null,
   "id": "e0092fae",
   "metadata": {},
   "outputs": [
    {
     "name": "stdout",
     "output_type": "stream",
     "text": [
      "\n",
      "--- Monthly Average AQI Trend by State (e.g., for top 3 states by overall average AQI) ---\n",
      "     year  month             state   aqi_value\n",
      "0    2022      4             Delhi  255.400000\n",
      "1    2022      4  Himachal Pradesh  160.931034\n",
      "2    2022      5             Delhi  212.161290\n",
      "3    2022      5  Himachal Pradesh  142.172414\n",
      "4    2022      6             Delhi  190.033333\n",
      "..    ...    ...               ...         ...\n",
      "96   2025      3  Himachal Pradesh  130.161290\n",
      "97   2025      3         Jharkhand  145.888889\n",
      "98   2025      4             Delhi  210.400000\n",
      "99   2025      4  Himachal Pradesh  160.166667\n",
      "100  2025      4         Jharkhand  146.000000\n",
      "\n",
      "[101 rows x 4 columns]\n"
     ]
    },
    {
     "ename": "",
     "evalue": "",
     "output_type": "error",
     "traceback": [
      "\u001b[1;31mUnable to start Kernel 'myenv (Python 3.12.10)' due to a timeout waiting for the ports to get used. \n",
      "\u001b[1;31mView Jupyter <a href='command:jupyter.viewOutput'>log</a> for further details."
     ]
    }
   ],
   "source": [
    "# Monthly Average AQI by State\n",
    "print(\"\\n--- Monthly Average AQI Trend by State (e.g., for top 3 states by overall average AQI) ---\")\n",
    "# Get top 3 states \n",
    "top_state_aqi=avg_aqi_state['state'].head(3).tolist()\n",
    "\n",
    "# Filter original dataframe for only those states\n",
    "filtered_df = df[df['state'].isin(top_state_aqi)]\n",
    "monthly_top_state_aqi=filtered_df.groupby(['year','month','state'])['aqi_value'].mean().reset_index().sort_values(by=['year','month','state'])\n",
    "\n",
    "print(monthly_top_state_aqi)"
   ]
  },
  {
   "cell_type": "code",
   "execution_count": null,
   "id": "e2ecd121",
   "metadata": {},
   "outputs": [
    {
     "name": "stdout",
     "output_type": "stream",
     "text": [
      "Data loaded successfully from aqi.csv.\n",
      "The 'date' column has been successfully converted to datetime objects.\n",
      "'aqi_value' is already of dtype: int64. No conversion needed.\n",
      "Created 'year', 'month', and 'month_name' columns.\n",
      "\n",
      "--- Export Complete ---\n",
      "Your main processed DataFrame has been saved to: 'air_quality_processed_for_powerbi.csv'\n",
      "You can now import this CSV file into Power BI Desktop.\n"
     ]
    },
    {
     "ename": "",
     "evalue": "",
     "output_type": "error",
     "traceback": [
      "\u001b[1;31mUnable to start Kernel 'myenv (Python 3.12.10)' due to a timeout waiting for the ports to get used. \n",
      "\u001b[1;31mView Jupyter <a href='command:jupyter.viewOutput'>log</a> for further details."
     ]
    }
   ],
   "source": [
    "file_name = 'aqi.csv'\n",
    "\n",
    "# --- Step 2: Load the Data ---\n",
    "try:\n",
    "    df = pd.read_csv(file_name)\n",
    "    print(f\"Data loaded successfully from {file_name}.\")\n",
    "except FileNotFoundError:\n",
    "    print(f\"Error: '{file_name}' not found. Please ensure the file is in the correct directory.\")\n",
    "    exit()\n",
    "\n",
    "# --- Step 3: Convert the 'date' column to datetime objects ---\n",
    "try:\n",
    "    df['date'] = pd.to_datetime(df['date'], format='%d-%m-%Y')\n",
    "    print(\"The 'date' column has been successfully converted to datetime objects.\")\n",
    "except Exception as e:\n",
    "    print(f\"Error converting 'date' column: {e}\")\n",
    "    print(\"Please check if the 'date' column truly follows the DD-MM-YYYY format or if its name is correct.\")\n",
    "    exit()\n",
    "\n",
    "# --- Step 4: Convert 'aqi_value' to numeric (if it's not already) ---\n",
    "# This ensures it's treated as a number in Power BI for calculations.\n",
    "original_dtype_aqi = df['aqi_value'].dtype\n",
    "if original_dtype_aqi == 'object':\n",
    "    print(f\"'{original_dtype_aqi}' dtype detected for 'aqi_value'. Attempting conversion to numeric.\")\n",
    "    df['aqi_value'] = pd.to_numeric(df['aqi_value'], errors='coerce')\n",
    "    if df['aqi_value'].isnull().any():\n",
    "        print(\"Warning: NaN values introduced in 'aqi_value' after conversion. Please inspect if unexpected.\")\n",
    "    else:\n",
    "        print(\"Conversion successful: 'aqi_value' is now numeric with no new NaNs.\")\n",
    "else:\n",
    "    print(f\"'aqi_value' is already of dtype: {original_dtype_aqi}. No conversion needed.\")\n",
    "\n",
    "# --- Step 5: Create new time-based features (year, month, month_name) ---\n",
    "df['year'] = df['date'].dt.year\n",
    "df['month'] = df['date'].dt.month\n",
    "df['month_name'] = df['date'].dt.month_name()\n",
    "print(\"Created 'year', 'month', and 'month_name' columns.\")\n",
    "\n",
    "\n",
    "# --- Step 6: Export the main processed DataFrame to a CSV file for Power BI ---\n",
    "output_file_name = 'air_quality_processed_for_powerbi.csv'\n",
    "df.to_csv(output_file_name, index=False) # index=False prevents writing the Pandas DataFrame index as a column\n",
    "\n",
    "print(f\"\\n--- Export Complete ---\")\n",
    "print(f\"Your main processed DataFrame has been saved to: '{output_file_name}'\")\n",
    "print(f\"You can now import this CSV file into Power BI Desktop.\")"
   ]
  },
  {
   "cell_type": "code",
   "execution_count": null,
   "id": "1204023c",
   "metadata": {},
   "outputs": [
    {
     "name": "stdout",
     "output_type": "stream",
     "text": [
      "Filtered DataFrame shape: (34878, 12)\n",
      "Date range of filtered data: 01-12-2024 to 30-04-2025\n",
      "\n",
      "--- Export Complete ---\n",
      "Filtered data (Dec 2024 - May 2025) saved to: 'air_quality_dec2024_may2025.csv'\n",
      "You can now use this CSV file for specific analysis or import into Power BI.\n"
     ]
    },
    {
     "ename": "",
     "evalue": "",
     "output_type": "error",
     "traceback": [
      "\u001b[1;31mUnable to start Kernel 'myenv (Python 3.12.10)' due to a timeout waiting for the ports to get used. \n",
      "\u001b[1;31mView Jupyter <a href='command:jupyter.viewOutput'>log</a> for further details."
     ]
    }
   ],
   "source": [
    "start_date_filter = pd.to_datetime('01-12-2024', format='%d-%m-%Y') # December 1, 2024\n",
    "end_date_filter = pd.to_datetime('31-05-2025', format='%d-%m-%Y')   # May 31, 2025\n",
    "\n",
    "filtered_df = df[(df['date'] >= start_date_filter) & (df['date'] <= end_date_filter)].copy()\n",
    "\n",
    "if filtered_df.empty:\n",
    "    print(f\"No data found in the specified range: {start_date_filter.strftime('%d-%m-%Y')} to {end_date_filter.strftime('%d-%m-%Y')}.\")\n",
    "else:\n",
    "    print(f\"Filtered DataFrame shape: {filtered_df.shape}\")\n",
    "    print(f\"Date range of filtered data: {filtered_df['date'].min().strftime('%d-%m-%Y')} to {filtered_df['date'].max().strftime('%d-%m-%Y')}\")\n",
    "\n",
    "#Export the filtered DataFrame to a new CSV file ---\n",
    "output_filtered_file_name = 'air_quality_dec2024_may2025.csv'\n",
    "filtered_df.to_csv(output_filtered_file_name, index=False) # index=False prevents writing the Pandas DataFrame index\n",
    "\n",
    "print(f\"\\n--- Export Complete ---\")\n",
    "print(f\"Filtered data (Dec 2024 - May 2025) saved to: '{output_filtered_file_name}'\")\n",
    "print(f\"You can now use this CSV file for specific analysis or import into Power BI.\")\n",
    "\n",
    "\n",
    "\n",
    "\n",
    "#"
   ]
  },
  {
   "cell_type": "code",
   "execution_count": null,
   "id": "5a5b02d7",
   "metadata": {},
   "outputs": [
    {
     "name": "stdout",
     "output_type": "stream",
     "text": [
      "\n",
      "--- Analyzing Prominent Pollutants for Southern India States + Andaman & Nicobar (Post 2022) ---\n",
      "\n",
      "--- Top 2 Prominent Pollutants for Each Southern Indian State ---\n",
      "             state prominent_pollutants  count\n",
      "0   Andhra Pradesh                 PM10   3182\n",
      "1   Andhra Pradesh                PM2.5   1757\n",
      "2        Karnataka                 PM10  13404\n",
      "3        Karnataka                   CO   2913\n",
      "4           Kerala                 PM10   3167\n",
      "5           Kerala                PM2.5   1123\n",
      "6       Puducherry                 PM10    413\n",
      "7       Puducherry                   O3    303\n",
      "8       Tamil Nadu                 PM10   6253\n",
      "9       Tamil Nadu                PM2.5   2268\n",
      "10       Telangana           PM2.5,PM10    343\n",
      "11       Telangana                 PM10    315\n",
      "\n",
      "--- Bottom 2 Prominent Pollutants for Each Southern Indian State (Post 2022) ---\n",
      "             state prominent_pollutants  count\n",
      "0   Andhra Pradesh          PM10,NO2,O3      1\n",
      "1   Andhra Pradesh    PM10,NO2,PM2.5,O3      1\n",
      "2        Karnataka               NO2,O3      1\n",
      "3        Karnataka           NO2,SO2,CO      1\n",
      "4           Kerala                CO,O3      6\n",
      "5           Kerala                  SO2      7\n",
      "6       Puducherry                   CO    148\n",
      "7       Puducherry                PM2.5    206\n",
      "8       Tamil Nadu          PM10,NH3,CO      1\n",
      "9       Tamil Nadu    PM10,NO2,PM2.5,O3      1\n",
      "10       Telangana                CO,O3      1\n",
      "11       Telangana                  NO2      1\n",
      "\n",
      "--- Analysis Complete ---\n"
     ]
    },
    {
     "name": "stderr",
     "output_type": "stream",
     "text": [
      "C:\\Users\\anwer\\AppData\\Local\\Temp\\ipykernel_3312\\2206408374.py:31: DeprecationWarning: DataFrameGroupBy.apply operated on the grouping columns. This behavior is deprecated, and in a future version of pandas the grouping columns will be excluded from the operation. Either pass `include_groups=False` to exclude the groupings or explicitly select the grouping columns after groupby to silence this warning.\n",
      "  top_2_pollutants = pollutant_counts.groupby('state').apply(lambda x: x.nlargest(2, 'count')).reset_index(drop=True)\n",
      "C:\\Users\\anwer\\AppData\\Local\\Temp\\ipykernel_3312\\2206408374.py:37: DeprecationWarning: DataFrameGroupBy.apply operated on the grouping columns. This behavior is deprecated, and in a future version of pandas the grouping columns will be excluded from the operation. Either pass `include_groups=False` to exclude the groupings or explicitly select the grouping columns after groupby to silence this warning.\n",
      "  bottom_2_pollutants = pollutant_counts.groupby('state').apply(lambda x: x.nsmallest(2, 'count')).reset_index(drop=True)\n"
     ]
    },
    {
     "ename": "",
     "evalue": "",
     "output_type": "error",
     "traceback": [
      "\u001b[1;31mUnable to start Kernel 'myenv (Python 3.12.10)' due to a timeout waiting for the ports to get used. \n",
      "\u001b[1;31mView Jupyter <a href='command:jupyter.viewOutput'>log</a> for further details."
     ]
    }
   ],
   "source": [
    "# --- Analysis: Top 2 and Bottom 2 Prominent Pollutants for Southern India States + Andaman & Nicobar (Post-2022) ---\n",
    "\n",
    "print(\"\\n--- Analyzing Prominent Pollutants for Southern India States + Andaman & Nicobar (Post 2022) ---\")\n",
    "\n",
    "# Define Southern India\n",
    "\n",
    "southern_states = [\n",
    "    'Andhra Pradesh',\n",
    "    'Karnataka',\n",
    "    'Kerala',\n",
    "    'Tamil Nadu',\n",
    "    'Telangana',\n",
    "    'Puducherry', \n",
    "]\n",
    "\n",
    "\n",
    "# Filter data for post-2022 and Southern Indian states\n",
    "df = pd.read_csv('aqi.csv')\n",
    "filtered_region_df =df[df['state'].isin(southern_states)].copy()\n",
    "\n",
    "if filtered_region_df.empty:\n",
    "    print(\"\\nNo data found for the specified states/UTs post-2022. Please check state names and date range.\")\n",
    "else:\n",
    "    # 1. Count occurrences of each prominent pollutant per state\n",
    "    pollutant_counts = filtered_region_df.groupby(['state', 'prominent_pollutants']).size().reset_index(name='count')\n",
    "\n",
    "    if pollutant_counts.empty:\n",
    "        print(\"\\nNo prominent pollutant data found for analysis after filtering prominent pollutant column itself.\")\n",
    "    else:\n",
    "        # 2. Find Top 2 Prominent Pollutants for each state\n",
    "        top_2_pollutants = pollutant_counts.groupby('state').apply(lambda x: x.nlargest(2, 'count')).reset_index(drop=True)\n",
    "\n",
    "        print(\"\\n--- Top 2 Prominent Pollutants for Each Southern Indian State ---\")\n",
    "        print(top_2_pollutants)\n",
    "\n",
    "        # 3. Find Bottom 2 Prominent Pollutants for each state/UT\n",
    "        bottom_2_pollutants = pollutant_counts.groupby('state').apply(lambda x: x.nsmallest(2, 'count')).reset_index(drop=True)\n",
    "\n",
    "        print(\"\\n--- Bottom 2 Prominent Pollutants for Each Southern Indian State (Post 2022) ---\")\n",
    "        print(bottom_2_pollutants)\n",
    "\n",
    "# --- Optional: Export these results if needed for further use or specific Power BI visuals ---\n",
    "# top_2_pollutants.to_csv('southern_and_islands_top2_prominent_pollutants.csv', index=False)\n",
    "# bottom_2_pollutants.to_csv('southern_and_islands_bottom2_prominent_pollutants.csv', index=False)\n",
    "# print(\"\\nExported top and bottom 2 prominent pollutant data to CSVs.\")\n",
    "\n",
    "print(\"\\n--- Analysis Complete ---\")\n",
    "\n",
    "\n",
    "\n"
   ]
  },
  {
   "cell_type": "code",
   "execution_count": null,
   "id": "a01c8a66",
   "metadata": {},
   "outputs": [
    {
     "ename": "",
     "evalue": "",
     "output_type": "error",
     "traceback": [
      "\u001b[1;31mFailed to start the Kernel. \n",
      "\u001b[1;31mUnable to start Kernel 'myenv (Python 3.12.10)' due to a timeout waiting for the ports to get used. \n",
      "\u001b[1;31mView Jupyter <a href='command:jupyter.viewOutput'>log</a> for further details."
     ]
    }
   ],
   "source": [
    "from datetime import *\n",
    "metro_cities=[\"Delhi\",\n",
    "\"Mumbai\", \"Chennai\", \"Kolkata\", \"Bengaluru\", \"Hyderabad\", \"Ahmedabad\", \"Pune\"]\n",
    "\n",
    "\n",
    "current_date=datetime(2025, 7, 26) \n",
    "start_date=current_date-timedelta(days-365)\n",
    "end_date=current_date-timedelta(days-1)\n",
    "print(f\"Analysisng data from{start_date} to {end_date}\")\n",
    "\n",
    "filtered_area_df =df[df['area'].isin(metro_cities)]&[df['date']>=start_date]&[df['date']<=end_date]\n",
    "if filtered_area_df.empty:\n",
    "    print(\"\\nNo data found for the specified area for 1 year. Please check area names and date range.\")\n",
    "else:\n",
    "    filtered_area_df['day_type'] = metro_df['date'].dt.dayofweek.apply(lambda x: 'Weekend' if x >= 5 else 'Weekday')\n",
    "\n",
    "    # Calculate the average AQI for each city by day type\n",
    "    aqi_weekday_weekend = filtered_area_df.groupby(['area', 'day_type'])['aqi_value'].mean().unstack(fill_value=0)\n",
    "    # Calculate the difference (Weekday AQI - Weekend AQI)\n",
    "    Difference=aqi_weekday_weekend['weekday']-aqi_weekday_weekend[\"weekend\"]\n",
    "     # Calculate the %change in (WeekendAQI - Weekday AQI)By weekday\n",
    "    weekend_weekday%_change=((aqi_weekday_weekend['Weekend'] - aqi_weekday_weekend['Weekday']) / aqi_weekday_weekend['Weekday']) * 100\n",
    "   \n",
    "\n",
    "    print(\"\\n--- Average AQI: Weekdays vs. Weekends in Metro Cities ---\")\n",
    "    # Sort by the difference to see which cities have the most improvement/degradation\n",
    "    print(aqi_weekday_weekend.sort_values(by='Difference', ascending=False).round(2))\n",
    "\n",
    "    print(\"\\n--- %change AQI: Weekdays vs. Weekends in Metro Cities ---\")\n",
    "\n",
    "    print(aqi_weekday_weekend.sort_values(by='weekend_weekday%_change', ascending=False).round(2))\n",
    "\n"
   ]
  }
 ],
 "metadata": {
  "kernelspec": {
   "display_name": "myenv",
   "language": "python",
   "name": "python3"
  },
  "language_info": {
   "codemirror_mode": {
    "name": "ipython",
    "version": 3
   },
   "file_extension": ".py",
   "mimetype": "text/x-python",
   "name": "python",
   "nbconvert_exporter": "python",
   "pygments_lexer": "ipython3",
   "version": "3.12.10"
  }
 },
 "nbformat": 4,
 "nbformat_minor": 5
}
